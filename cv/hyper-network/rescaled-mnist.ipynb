{
 "cells": [
  {
   "cell_type": "code",
   "execution_count": 1,
   "metadata": {
    "collapsed": true
   },
   "outputs": [],
   "source": [
    "import cPickle as pickle\n",
    "import gzip\n",
    "import matplotlib.pylab as pl\n",
    "%matplotlib inline\n",
    "import numpy as np\n",
    "from scipy.misc import imresize as rescale\n",
    "from data_utilities import load_mnist"
   ]
  },
  {
   "cell_type": "code",
   "execution_count": 2,
   "metadata": {
    "collapsed": true
   },
   "outputs": [],
   "source": [
    "training_X, training_Y, validation_X, validation_Y, test_X, test_Y = load_mnist(shape=(28, 28))"
   ]
  },
  {
   "cell_type": "code",
   "execution_count": 3,
   "metadata": {
    "collapsed": true
   },
   "outputs": [],
   "source": [
    "from random import choice\n",
    "def random_rescale(image):\n",
    "    percentages = np.array([50, 75, 100, 125, 150])\n",
    "    probabilities = np.array([0.3, 0.15, 0.1, 0.15, 0.3])\n",
    "    percentage = int(np.random.choice(percentages, p=probabilities))\n",
    "    rescaled = rescale(image, percentage, interp='nearest')\n",
    "    canvas = np.zeros((42, 42))\n",
    "    if percentage == 150: X, Y = 0, 0\n",
    "    else:\n",
    "        X = choice(range(int(42 * (150 - percentage) / 150.0)))\n",
    "        Y = choice(range(int(42 * (150 - percentage) / 150.0)))\n",
    "    width = int(28 * percentage / 100.0)\n",
    "    height = int(28 * percentage / 100.0)\n",
    "    canvas[X : X + width, Y : Y + height] = rescaled\n",
    "    return canvas"
   ]
  },
  {
   "cell_type": "code",
   "execution_count": 4,
   "metadata": {
    "collapsed": false
   },
   "outputs": [],
   "source": [
    "def generate_dataset(X):\n",
    "    generated = []\n",
    "    for point in X: generated.append(random_rescale(point))\n",
    "    array = np.reshape(np.array(generated), (len(X), 42 * 42))\n",
    "    return array"
   ]
  },
  {
   "cell_type": "code",
   "execution_count": 5,
   "metadata": {
    "collapsed": false
   },
   "outputs": [],
   "source": [
    "rescaled_mnist = (\n",
    "    generate_dataset(training_X), training_Y,\n",
    "    generate_dataset(validation_X), validation_Y,\n",
    "    generate_dataset(test_X), test_Y,\n",
    ")"
   ]
  },
  {
   "cell_type": "code",
   "execution_count": 6,
   "metadata": {
    "collapsed": false
   },
   "outputs": [],
   "source": [
    "pickle.dump(rescaled_mnist, open('rescaled_mnist', 'wb'))"
   ]
  }
 ],
 "metadata": {
  "kernelspec": {
   "display_name": "Python [default]",
   "language": "python",
   "name": "python2"
  },
  "language_info": {
   "codemirror_mode": {
    "name": "ipython",
    "version": 2
   },
   "file_extension": ".py",
   "mimetype": "text/x-python",
   "name": "python",
   "nbconvert_exporter": "python",
   "pygments_lexer": "ipython2",
   "version": "2.7.12"
  }
 },
 "nbformat": 4,
 "nbformat_minor": 1
}
