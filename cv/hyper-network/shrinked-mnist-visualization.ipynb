{
 "cells": [
  {
   "cell_type": "code",
   "execution_count": 1,
   "metadata": {
    "collapsed": true
   },
   "outputs": [],
   "source": [
    "import cPickle as pickle\n",
    "import matplotlib.pylab as pl\n",
    "%matplotlib inline\n",
    "import mxnet as mx\n",
    "import numpy as np\n",
    "import mx_layers as layers\n",
    "from data_utilities import load_mnist\n",
    "from symbolic_gradient import _filter_arguments"
   ]
  },
  {
   "cell_type": "code",
   "execution_count": 2,
   "metadata": {
    "collapsed": true
   },
   "outputs": [],
   "source": [
    "_, _, _, _, original_X, original_Y = load_mnist(path='stretched_mnist', shape=(1, 56, 56))\n",
    "_, _, _, _, shrinked_X, shrinked_Y = load_mnist(path='stretched_canvas_mnist', shape=(1, 56, 56))"
   ]
  },
  {
   "cell_type": "code",
   "execution_count": 3,
   "metadata": {
    "collapsed": true
   },
   "outputs": [],
   "source": [
    "def _normalized_convolution(**args):\n",
    "  network = layers.convolution(**args)\n",
    "  network = layers.batch_normalization(network)\n",
    "  network = layers.ReLU(network)\n",
    "  return network"
   ]
  },
  {
   "cell_type": "code",
   "execution_count": 4,
   "metadata": {
    "collapsed": false
   },
   "outputs": [],
   "source": [
    "network = layers.variable('data')\n",
    "network = _normalized_convolution(X=network, n_filters=16, kernel_shape=(5, 5), stride=(1, 1), pad=(2, 2))\n",
    "# network = layers.pooling(X=network, mode='maximum', kernel_shape=(2, 2), stride=(2, 2), pad=(0, 0))\n",
    "# network = _normalized_convolution(X=network, n_filters=16, kernel_shape=(5, 5), stride=(1, 1), pad=(2, 2))\n",
    "# network = layers.pooling(X=network, mode='maximum', kernel_shape=(2, 2), stride=(2, 2), pad=(0, 0))"
   ]
  },
  {
   "cell_type": "code",
   "execution_count": 5,
   "metadata": {
    "collapsed": false
   },
   "outputs": [],
   "source": [
    "N_LAYERS = 5\n",
    "accuracy, _ = pickle.load(open('info/shrinked-mnist-plain-network-%d-no-pooling' % N_LAYERS, 'rb'))\n",
    "parameters, states = pickle.load(open('parameters/shrinked-mnist-plain-network-%d-no-pooling' % N_LAYERS, 'rb'))"
   ]
  },
  {
   "cell_type": "code",
   "execution_count": 6,
   "metadata": {
    "collapsed": false
   },
   "outputs": [
    {
     "data": {
      "text/plain": [
       "0.11385350318471338"
      ]
     },
     "execution_count": 6,
     "metadata": {},
     "output_type": "execute_result"
    }
   ],
   "source": [
    "accuracy"
   ]
  },
  {
   "cell_type": "code",
   "execution_count": 7,
   "metadata": {
    "collapsed": false
   },
   "outputs": [],
   "source": [
    "N = 100\n",
    "context = mx.context.Context('cpu')\n",
    "parameter_values, state_values = _filter_arguments(network, parameters, states)\n",
    "parameter_values['data'] = shrinked_X[:N]\n",
    "for key, value in parameter_values.items():\n",
    "    parameter_values[key] = mx.nd.array(value, context)\n",
    "for key, value in state_values.items():\n",
    "    state_values[key] = mx.nd.array(value, context)"
   ]
  },
  {
   "cell_type": "code",
   "execution_count": 8,
   "metadata": {
    "collapsed": false
   },
   "outputs": [],
   "source": [
    "executor = network.bind(context, parameter_values, aux_states=state_values)\n",
    "output = executor.forward()[0]\n",
    "shrinked_feature_map = output.asnumpy()"
   ]
  },
  {
   "cell_type": "code",
   "execution_count": 9,
   "metadata": {
    "collapsed": false
   },
   "outputs": [],
   "source": [
    "parameter_values['data'] = mx.nd.array(original_X[:N], context)\n",
    "executor = network.bind(context, parameter_values, aux_states=state_values)\n",
    "output = executor.forward()[0]\n",
    "original_feature_map = output.asnumpy()"
   ]
  },
  {
   "cell_type": "code",
   "execution_count": 10,
   "metadata": {
    "collapsed": false
   },
   "outputs": [],
   "source": [
    "N, C, W, H = shrinked_feature_map.shape\n",
    "shrinked_feature_map = np.sum(np.abs(shrinked_feature_map), axis=1).reshape((N, W, H))\n",
    "original_feature_map = np.sum(np.abs(original_feature_map), axis=1).reshape((N, W, H))"
   ]
  },
  {
   "cell_type": "code",
   "execution_count": 12,
   "metadata": {
    "collapsed": false
   },
   "outputs": [
    {
     "data": {
      "text/plain": [
       "<matplotlib.image.AxesImage at 0x7f48100aebd0>"
      ]
     },
     "execution_count": 12,
     "metadata": {},
     "output_type": "execute_result"
    },
    {
     "data": {
      "image/png": "[encoded data removed]",
      "text/plain": [
       "<matplotlib.figure.Figure at 0x7f48101eecd0>"
      ]
     },
     "metadata": {},
     "output_type": "display_data"
    },
    {
     "data": {
      "image/png": "[encoded data removed]",
      "text/plain": [
       "<matplotlib.figure.Figure at 0x7f481020a750>"
      ]
     },
     "metadata": {},
     "output_type": "display_data"
    }
   ],
   "source": [
    "INDEX = 1\n",
    "pl.figure()\n",
    "pl.imshow(original_feature_map[INDEX], cmap='gray', interpolation='none')\n",
    "pl.figure()\n",
    "pl.imshow(shrinked_feature_map[INDEX], cmap='gray', interpolation='none')"
   ]
  }
 ],
 "metadata": {
  "kernelspec": {
   "display_name": "Python [default]",
   "language": "python",
   "name": "python2"
  },
  "language_info": {
   "codemirror_mode": {
    "name": "ipython",
    "version": 2
   },
   "file_extension": ".py",
   "mimetype": "text/x-python",
   "name": "python",
   "nbconvert_exporter": "python",
   "pygments_lexer": "ipython2",
   "version": "2.7.12"
  }
 },
 "nbformat": 4,
 "nbformat_minor": 1
}
