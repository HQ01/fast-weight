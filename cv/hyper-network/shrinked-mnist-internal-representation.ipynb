{
 "cells": [
  {
   "cell_type": "code",
   "execution_count": 1,
   "metadata": {
    "collapsed": false
   },
   "outputs": [],
   "source": [
    "import cPickle as pickle\n",
    "import mxnet as mx\n",
    "import numpy as np\n",
    "from data_utilities import load_mnist\n",
    "import mx_layers as layers\n",
    "from mx_utility import mxnet_array_mapping\n",
    "from symbolic_gradient import _filter_arguments"
   ]
  },
  {
   "cell_type": "code",
   "execution_count": 2,
   "metadata": {
    "collapsed": true
   },
   "outputs": [],
   "source": [
    "parameters, states = pickle.load(open('parameters/mnist-baseline-network', 'rb'))\n",
    "_, _, _, _, data, labels = load_mnist(path='shrinked_mnist', shape=(1, 28, 28))"
   ]
  },
  {
   "cell_type": "code",
   "execution_count": 3,
   "metadata": {
    "collapsed": true
   },
   "outputs": [],
   "source": [
    "def _normalized_convolution(**args):\n",
    "  network = layers.convolution(**args)\n",
    "  network = layers.batch_normalization(network)\n",
    "  network = layers.ReLU(network)\n",
    "  return network"
   ]
  },
  {
   "cell_type": "code",
   "execution_count": 4,
   "metadata": {
    "collapsed": false
   },
   "outputs": [],
   "source": [
    "network = layers.variable('data')\n",
    "network = _normalized_convolution(X=network, n_filters=16, kernel_shape=(5, 5), stride=(1, 1), pad=(2, 2))\n",
    "network = layers.pooling(X=network, mode='maximum', kernel_shape=(2, 2), stride=(2, 2), pad=(0, 0))\n",
    "for index in range(3):\n",
    "  identity = network\n",
    "  residual = _normalized_convolution(X=network, n_filters=16, kernel_shape=(3, 3), stride=(1, 1), pad=(1, 1))\n",
    "  network = identity + residual\n",
    "network = layers.pooling(X=network, mode='average', global_pool=True, kernel_shape=(28, 28), stride=(1, 1), pad=(0, 0))\n",
    "network = layers.flatten(network)\n",
    "network = layers.fully_connected(X=network, n_hidden_units=10)"
   ]
  },
  {
   "cell_type": "code",
   "execution_count": 5,
   "metadata": {
    "collapsed": false
   },
   "outputs": [],
   "source": [
    "parameters, states = _filter_arguments(network, parameters, states)\n",
    "context = mx.cpu()\n",
    "parameters = mxnet_array_mapping(parameters, context)\n",
    "states = mxnet_array_mapping(states, context)\n",
    "parameters['data'] = mx.nd.array(data, context)"
   ]
  },
  {
   "cell_type": "code",
   "execution_count": 6,
   "metadata": {
    "collapsed": false
   },
   "outputs": [],
   "source": [
    "executor = network.bind(context, parameters, aux_states=states, grad_req='null')"
   ]
  },
  {
   "cell_type": "code",
   "execution_count": 7,
   "metadata": {
    "collapsed": false
   },
   "outputs": [],
   "source": [
    "scores = executor.forward()[0]"
   ]
  },
  {
   "cell_type": "code",
   "execution_count": 8,
   "metadata": {
    "collapsed": false
   },
   "outputs": [
    {
     "data": {
      "text/plain": [
       "0.6934"
      ]
     },
     "execution_count": 8,
     "metadata": {},
     "output_type": "execute_result"
    }
   ],
   "source": [
    "np.count_nonzero(np.argmax(scores.asnumpy(), axis=1) - labels) / float(len(data))"
   ]
  }
 ],
 "metadata": {
  "kernelspec": {
   "display_name": "Python [default]",
   "language": "python",
   "name": "python2"
  },
  "language_info": {
   "codemirror_mode": {
    "name": "ipython",
    "version": 2
   },
   "file_extension": ".py",
   "mimetype": "text/x-python",
   "name": "python",
   "nbconvert_exporter": "python",
   "pygments_lexer": "ipython2",
   "version": "2.7.12"
  }
 },
 "nbformat": 4,
 "nbformat_minor": 1
}
