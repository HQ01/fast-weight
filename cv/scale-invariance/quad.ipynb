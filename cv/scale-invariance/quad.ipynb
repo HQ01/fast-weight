{
 "cells": [
  {
   "cell_type": "code",
   "execution_count": 1,
   "metadata": {
    "collapsed": true
   },
   "outputs": [],
   "source": [
    "def mark(array, X, Y, direction, length):\n",
    "    for i in range(length):\n",
    "        if direction == 'left':\n",
    "            array[X - i, Y] = 1\n",
    "        elif direction == 'right':\n",
    "            array[X + i, Y] = 1\n",
    "        elif direction == 'lower':\n",
    "            array[X, Y - i] = 1\n",
    "        elif direction == 'upper':\n",
    "            array[X, Y + i] = 1\n",
    "        else:\n",
    "            raise Exception()"
   ]
  },
  {
   "cell_type": "code",
   "execution_count": 2,
   "metadata": {
    "collapsed": true
   },
   "outputs": [],
   "source": [
    "from itertools import combinations, permutations\n",
    "directions = ('left', 'right', 'lower', 'upper')\n",
    "cruxes = tuple(combinations(directions, 2))"
   ]
  },
  {
   "cell_type": "code",
   "execution_count": 3,
   "metadata": {
    "collapsed": false
   },
   "outputs": [],
   "source": [
    "import numpy as np\n",
    "def generate_data(scale):\n",
    "    data = []\n",
    "    points = ((4, 4), (13, 4), (4, 13), (13, 13))\n",
    "    for p in permutations(range(6), 4):\n",
    "        canvas = np.zeros((18, 18))\n",
    "        for index, point in zip(p, points):\n",
    "            X, Y = point\n",
    "            r, s = cruxes[index]\n",
    "            mark(canvas, X, Y, r, scale)\n",
    "            mark(canvas, X, Y, s, scale)\n",
    "        data.append(canvas)\n",
    "    return np.array(data)\n",
    "def generate_dataset(scale):\n",
    "    data = generate_data(scale)\n",
    "    labels = np.arange(len(data))\n",
    "    return data, labels"
   ]
  },
  {
   "cell_type": "code",
   "execution_count": 4,
   "metadata": {
    "collapsed": true
   },
   "outputs": [],
   "source": [
    "from joblib import dump, load\n",
    "for scale in (3, 5):\n",
    "    dump(generate_dataset(scale), 'quad-%d' % scale)"
   ]
  },
  {
   "cell_type": "code",
   "execution_count": 5,
   "metadata": {
    "collapsed": false
   },
   "outputs": [
    {
     "data": {
      "text/plain": [
       "<matplotlib.image.AxesImage at 0x7ff32787b510>"
      ]
     },
     "execution_count": 5,
     "metadata": {},
     "output_type": "execute_result"
    },
    {
     "data": {
      "image/png": "[encoded data removed]",
      "text/plain": [
       "<matplotlib.figure.Figure at 0x7ff32a525290>"
      ]
     },
     "metadata": {},
     "output_type": "display_data"
    }
   ],
   "source": [
    "import matplotlib.pylab as pl\n",
    "%matplotlib inline\n",
    "data, labels = load('quad-5')\n",
    "index = 0\n",
    "pl.imshow(data[index])"
   ]
  }
 ],
 "metadata": {
  "kernelspec": {
   "display_name": "Python [default]",
   "language": "python",
   "name": "python2"
  },
  "language_info": {
   "codemirror_mode": {
    "name": "ipython",
    "version": 2
   },
   "file_extension": ".py",
   "mimetype": "text/x-python",
   "name": "python",
   "nbconvert_exporter": "python",
   "pygments_lexer": "ipython2",
   "version": "2.7.12"
  }
 },
 "nbformat": 4,
 "nbformat_minor": 1
}
