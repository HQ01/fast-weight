{
 "cells": [
  {
   "cell_type": "code",
   "execution_count": 1,
   "metadata": {
    "collapsed": true
   },
   "outputs": [],
   "source": [
    "import cPickle as pickle\n",
    "import matplotlib.pylab as pl\n",
    "%matplotlib inline\n",
    "import numpy as np\n",
    "import mxnet as mx\n",
    "import mx_layers as layers"
   ]
  },
  {
   "cell_type": "code",
   "execution_count": 2,
   "metadata": {
    "collapsed": true
   },
   "outputs": [],
   "source": [
    "n_residual_layers = 4"
   ]
  },
  {
   "cell_type": "code",
   "execution_count": 3,
   "metadata": {
    "collapsed": false
   },
   "outputs": [
    {
     "data": {
      "text/plain": [
       "0.5215963375796179"
      ]
     },
     "execution_count": 3,
     "metadata": {},
     "output_type": "execute_result"
    }
   ],
   "source": [
    "accuracy, progress = pickle.load(open('info/residual-network-on-shrinked-mnist-4', 'rb'))\n",
    "accuracy"
   ]
  },
  {
   "cell_type": "code",
   "execution_count": 4,
   "metadata": {
    "collapsed": true
   },
   "outputs": [],
   "source": [
    "parameters, states = pickle.load(open('parameters/residual-network-on-shrinked-mnist-4', 'rb'))"
   ]
  },
  {
   "cell_type": "code",
   "execution_count": 5,
   "metadata": {
    "collapsed": true
   },
   "outputs": [],
   "source": [
    "def _normalized_convolution(**args):\n",
    "  network = layers.convolution(no_bias=True, **args)\n",
    "  network = layers.batch_normalization(network, fix_gamma=False)\n",
    "  network = layers.ReLU(network)\n",
    "  return network"
   ]
  },
  {
   "cell_type": "code",
   "execution_count": 6,
   "metadata": {
    "collapsed": false
   },
   "outputs": [],
   "source": [
    "network = layers.variable('data')\n",
    "for index in range(3):\n",
    "  network = _normalized_convolution(X=network, n_filters=16, kernel_shape=(5, 5), stride=(1, 1), pad=(2, 2))\n",
    "  network = layers.pooling(X=network, mode='maximum', kernel_shape=(2, 2), stride=(2, 2), pad=(0, 0))\n",
    "\n",
    "shared_weight = layers.variable('shared_weight')\n",
    "shared_gamma = layers.variable('shared_gamma')\n",
    "shared_beta = layers.variable('shared_beta')\n",
    "kwargs = {'n_filters' : 16, 'kernel_shape' : (3, 3), 'stride' : (1, 1), 'pad' : (1, 1)}\n",
    "\n",
    "identity = network\n",
    "residual = layers.convolution(X=network, weight=shared_weight, no_bias=True, **kwargs)\n",
    "network = identity + residual\n",
    "\n",
    "for index in range(args.n_residual_layers - 1):\n",
    "  network = layers.batch_normalization(network, beta=shared_beta, gamma=shared_gamma, fix_gamma=False)\n",
    "  network = layers.ReLU(network)\n",
    "  identity = network\n",
    "  residual = layers.convolution(X=network, weight=shared_weight, no_bias=True, **kwargs)\n",
    "  network = identity + residual\n",
    "\n",
    "network = layers.pooling(X=network, mode='average', global_pool=True, kernel_shape=(1, 1), stride=(1, 1), pad=(0, 0))\n",
    "network = layers.flatten(network)\n",
    "network = layers.fully_connected(X=network, n_hidden_units=10)"
   ]
  },
  {
   "cell_type": "code",
   "execution_count": 7,
   "metadata": {
    "collapsed": false
   },
   "outputs": [],
   "source": [
    "def score_variance(scores):\n",
    "    N, D = scores.shape\n",
    "    mean = mx.nd.mean(scores, axis=1, keepdims=True)\n",
    "    variance = mx.nd.mean((scores - mean) ** 2, axis=1, keepdims=True)\n",
    "    return mx.nd.mean(variance)"
   ]
  },
  {
   "cell_type": "code",
   "execution_count": 8,
   "metadata": {
    "collapsed": true
   },
   "outputs": [],
   "source": [
    "from data_utilities import load_mnist\n",
    "stretched_mnist = load_mnist(path='stretched_mnist', scale=1, shape=(1, 56, 56))\n",
    "stretched_canvas_mnist = load_mnist(path='stretched_canvas_mnist', scale=1, shape=(1, 56, 56))"
   ]
  },
  {
   "cell_type": "code",
   "execution_count": 9,
   "metadata": {
    "collapsed": true
   },
   "outputs": [],
   "source": [
    "context = mx.cpu()\n",
    "args = {key : mx.nd.array(value, context) for key, value in parameters.items()}\n",
    "aux_states = {key : mx.nd.array(value, context) for key, value in states.items()}"
   ]
  },
  {
   "cell_type": "code",
   "execution_count": 10,
   "metadata": {
    "collapsed": false
   },
   "outputs": [],
   "source": [
    "args['data'] = mx.nd.array(stretched_mnist[4], context)\n",
    "executor = network.bind(context, args, aux_states=aux_states)"
   ]
  },
  {
   "cell_type": "code",
   "execution_count": 11,
   "metadata": {
    "collapsed": false
   },
   "outputs": [
    {
     "data": {
      "text/plain": [
       "79.215363"
      ]
     },
     "execution_count": 11,
     "metadata": {},
     "output_type": "execute_result"
    }
   ],
   "source": [
    "scores = executor.forward()[0]\n",
    "score_variance(scores).asscalar()"
   ]
  },
  {
   "cell_type": "code",
   "execution_count": 12,
   "metadata": {
    "collapsed": false
   },
   "outputs": [
    {
     "data": {
      "text/plain": [
       "80.613609"
      ]
     },
     "execution_count": 12,
     "metadata": {},
     "output_type": "execute_result"
    }
   ],
   "source": [
    "args['data'][:] = mx.nd.array(stretched_mnist[2], context)\n",
    "scores = executor.forward()[0]\n",
    "score_variance(scores).asscalar()"
   ]
  },
  {
   "cell_type": "code",
   "execution_count": 13,
   "metadata": {
    "collapsed": false
   },
   "outputs": [
    {
     "data": {
      "text/plain": [
       "22.737444"
      ]
     },
     "execution_count": 13,
     "metadata": {},
     "output_type": "execute_result"
    }
   ],
   "source": [
    "args['data'][:] = mx.nd.array(stretched_canvas_mnist[4], context)\n",
    "scores = executor.forward()[0]\n",
    "score_variance(scores).asscalar()"
   ]
  },
  {
   "cell_type": "code",
   "execution_count": 14,
   "metadata": {
    "collapsed": false
   },
   "outputs": [
    {
     "data": {
      "text/plain": [
       "21.999304"
      ]
     },
     "execution_count": 14,
     "metadata": {},
     "output_type": "execute_result"
    }
   ],
   "source": [
    "args['data'][:] = mx.nd.array(stretched_canvas_mnist[2], context)\n",
    "scores = executor.forward()[0]\n",
    "score_variance(scores).asscalar()"
   ]
  }
 ],
 "metadata": {
  "anaconda-cloud": {},
  "kernelspec": {
   "display_name": "Python [default]",
   "language": "python",
   "name": "python2"
  },
  "language_info": {
   "codemirror_mode": {
    "name": "ipython",
    "version": 2
   },
   "file_extension": ".py",
   "mimetype": "text/x-python",
   "name": "python",
   "nbconvert_exporter": "python",
   "pygments_lexer": "ipython2",
   "version": "2.7.12"
  }
 },
 "nbformat": 4,
 "nbformat_minor": 1
}
