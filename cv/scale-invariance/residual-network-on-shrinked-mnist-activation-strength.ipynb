{
 "cells": [
  {
   "cell_type": "code",
   "execution_count": 1,
   "metadata": {
    "collapsed": true
   },
   "outputs": [],
   "source": [
    "import cPickle as pickle\n",
    "import matplotlib.pylab as pl\n",
    "%matplotlib inline\n",
    "import numpy as np\n",
    "import mxnet as mx\n",
    "import mx_layers as layers"
   ]
  },
  {
   "cell_type": "code",
   "execution_count": 2,
   "metadata": {
    "collapsed": true
   },
   "outputs": [],
   "source": [
    "n_residual_layers = 4"
   ]
  },
  {
   "cell_type": "code",
   "execution_count": 3,
   "metadata": {
    "collapsed": false
   },
   "outputs": [
    {
     "ename": "IOError",
     "evalue": "[Errno 2] No such file or directory: 'info/residual-network-on-shrinked-mnist-4'",
     "output_type": "error",
     "traceback": [
      "\u001b[0;31m---------------------------------------------------------------------------\u001b[0m",
      "\u001b[0;31mIOError\u001b[0m                                   Traceback (most recent call last)",
      "\u001b[0;32m<ipython-input-3-fc0061046c3e>\u001b[0m in \u001b[0;36m<module>\u001b[0;34m()\u001b[0m\n\u001b[0;32m----> 1\u001b[0;31m \u001b[0maccuracy\u001b[0m\u001b[0;34m,\u001b[0m \u001b[0mprogress\u001b[0m \u001b[0;34m=\u001b[0m \u001b[0mpickle\u001b[0m\u001b[0;34m.\u001b[0m\u001b[0mload\u001b[0m\u001b[0;34m(\u001b[0m\u001b[0mopen\u001b[0m\u001b[0;34m(\u001b[0m\u001b[0;34m'info/residual-network-on-shrinked-mnist-4'\u001b[0m\u001b[0;34m,\u001b[0m \u001b[0;34m'rb'\u001b[0m\u001b[0;34m)\u001b[0m\u001b[0;34m)\u001b[0m\u001b[0;34m\u001b[0m\u001b[0m\n\u001b[0m\u001b[1;32m      2\u001b[0m \u001b[0maccuracy\u001b[0m\u001b[0;34m\u001b[0m\u001b[0m\n",
      "\u001b[0;31mIOError\u001b[0m: [Errno 2] No such file or directory: 'info/residual-network-on-shrinked-mnist-4'"
     ]
    }
   ],
   "source": [
    "accuracy, progress = pickle.load(open('info/residual-network-on-shrinked-mnist-4', 'rb'))\n",
    "accuracy"
   ]
  },
  {
   "cell_type": "code",
   "execution_count": null,
   "metadata": {
    "collapsed": true
   },
   "outputs": [],
   "source": [
    "parameters, states = pickle.load(open('parameters/residual-network-on-shrinked-mnist-4', 'rb'))"
   ]
  },
  {
   "cell_type": "code",
   "execution_count": null,
   "metadata": {
    "collapsed": true
   },
   "outputs": [],
   "source": [
    "def _normalized_convolution(index, **kwargs):\n",
    "  network = layers.convolution(no_bias=True, name='convolution%d' % index, **kwargs)\n",
    "  network = layers.batch_normalization(network, fix_gamma=False, name='batchnorm%d' % index)\n",
    "  network = layers.ReLU(network)\n",
    "  return network"
   ]
  },
  {
   "cell_type": "code",
   "execution_count": null,
   "metadata": {
    "collapsed": false
   },
   "outputs": [],
   "source": [
    "kwargs = {'n_filters' : 16, 'kernel_shape' : (5, 5), 'stride' : (1, 1), 'pad' : (2, 2)}\n",
    "network = layers.variable('data')\n",
    "for index in range(3):\n",
    "  network = _normalized_convolution(index, X=network, **kwargs)\n",
    "  network = layers.pooling(X=network, mode='maximum', kernel_shape=(2, 2), stride=(2, 2), pad=(0, 0))"
   ]
  },
  {
   "cell_type": "code",
   "execution_count": null,
   "metadata": {
    "collapsed": false
   },
   "outputs": [],
   "source": [
    "def feature_map_variance(feature_maps):\n",
    "    N, C, W, H = feature_maps.shape\n",
    "    feature_maps = feature_maps.reshape((N, C, W * H))\n",
    "    mean = mx.nd.mean(feature_maps, axis=2, keepdims=True)\n",
    "    variance = mx.nd.mean((feature_maps - mean) ** 2, axis=1, keepdims=True)\n",
    "    return mx.nd.mean(variance)"
   ]
  },
  {
   "cell_type": "code",
   "execution_count": null,
   "metadata": {
    "collapsed": true
   },
   "outputs": [],
   "source": [
    "from data_utilities import load_mnist\n",
    "stretched_mnist = load_mnist(path='stretched_mnist', scale=1, shape=(1, 56, 56))\n",
    "stretched_canvas_mnist = load_mnist(path='stretched_canvas_mnist', scale=1, shape=(1, 56, 56))"
   ]
  },
  {
   "cell_type": "code",
   "execution_count": null,
   "metadata": {
    "collapsed": true
   },
   "outputs": [],
   "source": [
    "context = mx.cpu()\n",
    "args = {key : mx.nd.array(value, context) for key, value in parameters.items()}\n",
    "aux_states = {key : mx.nd.array(value, context) for key, value in states.items()}"
   ]
  },
  {
   "cell_type": "code",
   "execution_count": null,
   "metadata": {
    "collapsed": false
   },
   "outputs": [],
   "source": [
    "N = 1000\n",
    "args['data'] = mx.nd.array(stretched_mnist[4], context)[:N]\n",
    "executor = network.bind(context, args, aux_states=aux_states)\n",
    "scores = executor.forward()[0]\n",
    "score_variance(scores).asscalar()"
   ]
  },
  {
   "cell_type": "code",
   "execution_count": null,
   "metadata": {
    "collapsed": false
   },
   "outputs": [],
   "source": [
    "args['data'][:] = mx.nd.array(stretched_canvas_mnist[4], context)[:N]\n",
    "scores = executor.forward()[0]\n",
    "score_variance(scores).asscalar()"
   ]
  }
 ],
 "metadata": {
  "anaconda-cloud": {},
  "kernelspec": {
   "display_name": "Python [default]",
   "language": "python",
   "name": "python2"
  },
  "language_info": {
   "codemirror_mode": {
    "name": "ipython",
    "version": 2
   },
   "file_extension": ".py",
   "mimetype": "text/x-python",
   "name": "python",
   "nbconvert_exporter": "python",
   "pygments_lexer": "ipython2",
   "version": "2.7.12"
  }
 },
 "nbformat": 4,
 "nbformat_minor": 1
}
